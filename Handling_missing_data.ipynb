{
 "cells": [
  {
   "cell_type": "markdown",
   "metadata": {},
   "source": [
    "git init\\\n",
    "git add README.md\\\n",
    "git commit -m \"first commit\"\\\n",
    "git branch -M main\\\n",
    "git remote add origin https://github.com/Manish7272/Handling-Missing-Values.git\\\n",
    "git push -u origin main"
   ]
  },
  {
   "cell_type": "code",
   "execution_count": null,
   "metadata": {},
   "outputs": [],
   "source": []
  }
 ],
 "metadata": {
  "language_info": {
   "name": "python"
  }
 },
 "nbformat": 4,
 "nbformat_minor": 2
}
