{
 "cells": [
  {
   "cell_type": "markdown",
   "metadata": {},
   "source": [
    "git init\\\n",
    "git add README.md\\\n",
    "git commit -m \"first commit\"\\\n",
    "git branch -M main\\\n",
    "git remote add origin https://github.com/Manish7272/Handling-Missing-Values.git\\\n",
    "git push -u origin main"
   ]
  },
  {
   "cell_type": "code",
   "execution_count": null,
   "metadata": {},
   "outputs": [],
   "source": [
    "import numpy as np\n",
    "import pandas as pd\n"
   ]
  },
  {
   "cell_type": "code",
   "execution_count": null,
   "metadata": {},
   "outputs": [],
   "source": []
  }
 ],
 "metadata": {
  "kernelspec": {
   "display_name": "Python 3",
   "language": "python",
   "name": "python3"
  },
  "language_info": {
   "name": "python",
   "version": "3.11.4"
  }
 },
 "nbformat": 4,
 "nbformat_minor": 2
}
